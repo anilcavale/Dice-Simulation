{
 "cells": [
  {
   "cell_type": "markdown",
   "id": "6629ed1d",
   "metadata": {},
   "source": [
    "## 1.\tFunction name: sim_dice \n",
    "#### Parameters: None \n",
    "#### Return: A dictionary with 6 elements: keys are integers 1 to 6, values are corresponding number of occurrence Description: You roll the dice 10,000 times. Each time you get one of six sides with a probability of 1/6. You need to generate the total number of occurrence for each side, store them in a dictionary as a returned value. \n",
    "#### Hint:\n",
    "#### You need to use random() to randomly generate a number.\n"
   ]
  },
  {
   "cell_type": "code",
   "execution_count": null,
   "id": "c11b982f",
   "metadata": {},
   "outputs": [
    {
     "name": "stdout",
     "output_type": "stream",
     "text": [
      "Do you want to calculate the total number of occurrence for each side of the dice? Enter (Yes/No)Yes\n",
      "{1: 1665, 2: 1655, 3: 1641, 4: 1661, 5: 1655, 6: 1723}\n"
     ]
    }
   ],
   "source": [
    "n = 10000\n",
    "dict = {1:0,2:0,3:0,4:0,5:0,6:0}\n",
    "import random\n",
    "\n",
    "def sim_dice():    \n",
    "    for i in range(1,n+1):        \n",
    "        roll=random.randint(1,6)\n",
    "        dict[roll]= dict.get(roll)+1    \n",
    "    return dict\n",
    "while(True):\n",
    "    a = input(\"Do you want to calculate the total number of occurrence for each side of the dice? Enter (Yes/No)\")\n",
    "    if(a == \"Yes\"):\n",
    "        print(sim_dice())\n",
    "    else:\n",
    "        break"
   ]
  }
 ],
 "metadata": {
  "kernelspec": {
   "display_name": "Python 3",
   "language": "python",
   "name": "python3"
  },
  "language_info": {
   "codemirror_mode": {
    "name": "ipython",
    "version": 3
   },
   "file_extension": ".py",
   "mimetype": "text/x-python",
   "name": "python",
   "nbconvert_exporter": "python",
   "pygments_lexer": "ipython3",
   "version": "3.8.8"
  }
 },
 "nbformat": 4,
 "nbformat_minor": 5
}
